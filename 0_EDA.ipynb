{
 "cells": [
  {
   "cell_type": "code",
   "execution_count": null,
   "id": "6aab833d-c35d-4651-ac39-f9ad5363fb09",
   "metadata": {},
   "outputs": [],
   "source": [
    "from PIL import Image\n",
    "from pathlib import Path\n",
    "import pandas as pd\n",
    "from matplotlib import pyplot as plt"
   ]
  },
  {
   "cell_type": "code",
   "execution_count": null,
   "id": "1fb146ec-f3b6-4b1f-a812-0cd0a9cdf47f",
   "metadata": {},
   "outputs": [],
   "source": [
    "def get_class(x):\n",
    "    return str(x.parent).split(\"/\")[-1]"
   ]
  },
  {
   "cell_type": "code",
   "execution_count": null,
   "id": "f9d22a24-2503-4a57-b2e7-3ee99d2aec8a",
   "metadata": {},
   "outputs": [],
   "source": [
    "data_dir = r'data/Split_smol/train/'\n",
    "p = Path(data_dir).glob('**/*')\n",
    "files = [(x, get_class(x), Image.open(x).size,Image.open(x)) for x in p if x.is_file()]\n",
    "df_train = pd.DataFrame(files, columns=[\"path\", \"class\", \"resolution\",\"data\"])"
   ]
  },
  {
   "cell_type": "code",
   "execution_count": null,
   "id": "cbbd41ca-f75b-4557-a81b-f21008a4bc70",
   "metadata": {},
   "outputs": [],
   "source": [
    "data_dir = r'data/Split_smol/val/'\n",
    "p = Path(data_dir).glob('**/*')\n",
    "files = [(x, get_class(x), Image.open(x).size,Image.open(x)) for x in p if x.is_file()]\n",
    "df_val = pd.DataFrame(files, columns=[\"path\", \"class\", \"resolution\", \"data\"])"
   ]
  },
  {
   "cell_type": "code",
   "execution_count": null,
   "id": "43476f3e-5bec-4918-ab50-a83941b668f9",
   "metadata": {},
   "outputs": [],
   "source": [
    "plt.figure(figsize=(18,6))\n",
    "df_train.groupby(\"resolution\").size().sort_values(ascending=False).plot.bar(alpha=0.5)\n",
    "df_val.groupby(\"resolution\").size().sort_values(ascending=False).plot.bar()"
   ]
  },
  {
   "cell_type": "code",
   "execution_count": null,
   "id": "29b85cb6-c60e-4eef-ac63-dafeca3c57f5",
   "metadata": {},
   "outputs": [],
   "source": [
    "plt.figure(figsize=(18,6))\n",
    "df_train.groupby(\"class\").size().sort_values(ascending=False).plot.bar(alpha=0.5)\n",
    "df_val.groupby(\"class\").size().sort_values(ascending=False).plot.bar()"
   ]
  },
  {
   "cell_type": "code",
   "execution_count": null,
   "id": "31927f05-c21d-476b-94a5-6599b3a429b2",
   "metadata": {},
   "outputs": [],
   "source": [
    "imgs = 5\n",
    "classes = 9\n",
    "fig, axes = plt.subplots(nrows=classes,ncols=imgs,figsize=(24,24))\n",
    "fig.tight_layout()\n",
    "aux_df = df_train.groupby(\"class\").head(imgs)\n",
    "for idx in range(classes*imgs):\n",
    "    ax = plt.subplot(classes,imgs,idx+1)\n",
    "    ax.imshow(aux_df.data.iloc[idx])\n",
    "    ax.set_title(aux_df[\"class\"].iloc[idx])"
   ]
  },
  {
   "cell_type": "code",
   "execution_count": null,
   "id": "a80ba046-d89c-45c4-bd88-6734d271859f",
   "metadata": {},
   "outputs": [],
   "source": [
    "imgs = 5\n",
    "classes = 9\n",
    "fig, axes = plt.subplots(nrows=classes,ncols=imgs,figsize=(24,24))\n",
    "fig.tight_layout()\n",
    "aux_df = df_val.groupby(\"class\").head(imgs)\n",
    "for idx in range(classes*imgs):\n",
    "    ax = plt.subplot(classes,imgs,idx+1)\n",
    "    ax.imshow(aux_df.data.iloc[idx])\n",
    "    ax.set_title(aux_df[\"class\"].iloc[idx])"
   ]
  },
  {
   "cell_type": "code",
   "execution_count": null,
   "id": "6927a4a6-519b-4b55-996e-5f27d834dc30",
   "metadata": {},
   "outputs": [],
   "source": []
  }
 ],
 "metadata": {
  "kernelspec": {
   "display_name": "Python 3 (ipykernel)",
   "language": "python",
   "name": "python3"
  },
  "language_info": {
   "codemirror_mode": {
    "name": "ipython",
    "version": 3
   },
   "file_extension": ".py",
   "mimetype": "text/x-python",
   "name": "python",
   "nbconvert_exporter": "python",
   "pygments_lexer": "ipython3",
   "version": "3.12.3"
  }
 },
 "nbformat": 4,
 "nbformat_minor": 5
}
